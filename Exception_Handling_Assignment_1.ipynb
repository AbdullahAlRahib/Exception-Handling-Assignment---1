{
  "nbformat": 4,
  "nbformat_minor": 0,
  "metadata": {
    "colab": {
      "provenance": []
    },
    "kernelspec": {
      "name": "python3",
      "display_name": "Python 3"
    },
    "language_info": {
      "name": "python"
    }
  },
  "cells": [
    {
      "cell_type": "markdown",
      "source": [
        "# **Q1**\n",
        "\n",
        "**Q1.What is an Exception in python? Write the differenc between Exceptions and Syntex errors**\n",
        "\n",
        "**Answer:**\n",
        "\n",
        "An exception is an event that occurs during the execution of a program, which disrupts the normal flow of the program's instructions. It is a way to handle errors or exceptional situations that may arise while the program is running.\n"
      ],
      "metadata": {
        "id": "0nN8oOPHcJoN"
      }
    },
    {
      "cell_type": "code",
      "source": [
        "try:\n",
        "    # Code that may raise an exception\n",
        "    result = 10 / 0\n",
        "except ZeroDivisionError:\n",
        "    # Exception handling code\n",
        "    print(\"Error: Division by zero\")\n"
      ],
      "metadata": {
        "colab": {
          "base_uri": "https://localhost:8080/"
        },
        "id": "RUDbJ4lGg5Hy",
        "outputId": "32a5ca08-0310-49c8-b40d-1514e42b2d3f"
      },
      "execution_count": 1,
      "outputs": [
        {
          "output_type": "stream",
          "name": "stdout",
          "text": [
            "Error: Division by zero\n"
          ]
        }
      ]
    },
    {
      "cell_type": "markdown",
      "source": [
        "The main differences between exceptions and syntax errors:\n",
        "\n",
        " * Definition: A syntax error is a mistake in the structure of a program that prevents it from compiling. An exception is an abnormal event that occurs during the execution of a program and can be handled to allow the program to continue running.\n",
        " * Cause: Syntax errors are caused by mistakes in the code, such as missing semicolons, incorrect keywords, or invalid operators. Exceptions can be caused by a variety of factors, such as invalid input, accessing a nonexistent file, or dividing by zero.\n",
        " * Time of occurrence: Syntax errors are detected during compilation, which is the process of converting code from a human-readable form to a machine-readable form. Exceptions can occur during compilation, but they are more likely to occur during runtime, which is the time when the program is actually running.\n",
        " * Handling: Syntax errors cannot be handled by the program itself. They must be corrected by the programmer before the program can be compiled. Exceptions can be handled by the program using try-catch blocks. When an exception is thrown, the program will try to execute the code in the catch block, which can handle the exception and allow the program to continue running.\n",
        " * Severity: Syntax errors are usually considered to be more severe than exceptions. This is because syntax errors prevent the program from compiling, which means that the program cannot even be run. Exceptions, on the other hand, can be handled by the program, which means that the program may still be able to run, even if it is not able to complete its task.\n"
      ],
      "metadata": {
        "id": "ZUqlKnuShlNR"
      }
    },
    {
      "cell_type": "markdown",
      "source": [
        "# **Q2**\n",
        "\n",
        "**What happens when an exception is not handled? Explain with an example?**\n",
        "\n",
        "**Answer:**\n",
        "\n",
        "When an exception is not handled, the program will usually crash. This means that the program will stop running and the user will see an error message.Here is an example of what happens when an exception is not handled:"
      ],
      "metadata": {
        "id": "B03jhNgtcUTQ"
      }
    },
    {
      "cell_type": "code",
      "source": [
        "def divide(x, y):\n",
        "    return x / y\n",
        "\n",
        "print(divide(10, 0))"
      ],
      "metadata": {
        "id": "z3Ll1i9yjC9x"
      },
      "execution_count": null,
      "outputs": []
    },
    {
      "cell_type": "markdown",
      "source": [
        "This code will try to divide 10 by 0. However, since division by zero is not possible, an exception will be raised. If the exception is not handled, the program will crash and the user will see error message.To prevent the program from crashing, we can handle the exception by adding a catch block to the code:"
      ],
      "metadata": {
        "id": "C-NG4iShj6iL"
      }
    },
    {
      "cell_type": "code",
      "source": [
        "def divide(x, y):\n",
        "    try:\n",
        "        return x / y\n",
        "    except ZeroDivisionError as e:\n",
        "        print(e)\n",
        "        print(\"The program will now continue running\")\n",
        "\n",
        "print(divide(10, 0))"
      ],
      "metadata": {
        "id": "Qb0bagzjkD7q"
      },
      "execution_count": null,
      "outputs": []
    },
    {
      "cell_type": "markdown",
      "source": [
        "In this case, the program will print the error message \"division by zero\", but it will not crash. The program will then continue running."
      ],
      "metadata": {
        "id": "CffqHK9HkIN7"
      }
    },
    {
      "cell_type": "markdown",
      "source": [
        "# **Q3**\n",
        "\n",
        "**Which Python statements are used to catch and handle exceptions? Explain with an example**\n",
        "\n",
        "**Answer:**\n",
        "The **try**, **except**, and **finally** statements are used to catch and handle exceptions in Python.\n",
        "\n",
        " * The **try** statement is used to execute code that may raise an exception.\n",
        " * The **except** statement is used to catch exceptions that are raised in the try statement.\n",
        " * The **finally** statement is used to execute code regardless of whether an exception is raised in the try statement."
      ],
      "metadata": {
        "id": "liCQbUQqcWEO"
      }
    },
    {
      "cell_type": "code",
      "source": [
        "def open_file(filename):\n",
        "    try:\n",
        "        with open(filename, \"r\") as f:\n",
        "            print(f.read())\n",
        "    except FileNotFoundError:\n",
        "        print(\"File not found\")\n",
        "\n",
        "open_file(\"my_file.txt\")"
      ],
      "metadata": {
        "colab": {
          "base_uri": "https://localhost:8080/"
        },
        "id": "8eVBJf81rUsd",
        "outputId": "03cf5d11-d2c0-465a-c4e2-61710b0955ea"
      },
      "execution_count": 8,
      "outputs": [
        {
          "output_type": "stream",
          "name": "stdout",
          "text": [
            "File not found\n"
          ]
        }
      ]
    },
    {
      "cell_type": "markdown",
      "source": [
        "In this example, if the file my_file.txt is not found, the FileNotFoundError exception will be raised. The except block will then catch the exception and print the custom error message.\n",
        "\n",
        "The **try**, **except**, and **finally** statements can be used together to provide a more robust way of handling exceptions in Python. By using these statements, you can ensure that your program will continue running even if an exception is raised."
      ],
      "metadata": {
        "id": "812tfeE8rQiH"
      }
    },
    {
      "cell_type": "code",
      "source": [
        "def factorial(x):\n",
        "    try:\n",
        "        if x < 0:\n",
        "            raise ValueError(\"x must be non-negative\")\n",
        "        result = 1\n",
        "        for i in range(1, x + 1):\n",
        "            result *= i\n",
        "        return result\n",
        "    except ValueError as e:\n",
        "        print(e)\n",
        "    else:\n",
        "        print(\"The program will now continue running\")\n",
        "    finally:\n",
        "        print(\"The program has finished running\")\n",
        "\n",
        "print(factorial(-1))"
      ],
      "metadata": {
        "colab": {
          "base_uri": "https://localhost:8080/"
        },
        "id": "ue9yvcNLrZEw",
        "outputId": "e9026bde-0ca2-4c12-b411-c8a7101e5f86"
      },
      "execution_count": 9,
      "outputs": [
        {
          "output_type": "stream",
          "name": "stdout",
          "text": [
            "x must be non-negative\n",
            "The program has finished running\n",
            "None\n"
          ]
        }
      ]
    },
    {
      "cell_type": "markdown",
      "source": [
        "# **Q4**\n",
        "\n",
        "**Explain with an example:**\n",
        "\n",
        "a.try and else\n",
        "\n",
        "b.finally\n",
        "\n",
        "c.raise\n",
        "\n",
        "**Answer:**\n",
        "\n",
        "**Try and else:**\n",
        "\n",
        " * The try and else clauses are used to execute code that may raise an exception. The else clause is executed if the try clause does not raise an exception.\n",
        "\n",
        " * For example, the following code will try to open a file. If the file opens successfully, the else clause will be executed. If the file does not open, the else clause will not be executed and the program will continue running."
      ],
      "metadata": {
        "id": "zv4ERfdCcVO0"
      }
    },
    {
      "cell_type": "code",
      "source": [
        "try :\n",
        "    f = open(\"test11.txt\", 'w')\n",
        "    f.write(\"Write into my file\")\n",
        "except Exception as e:\n",
        "    print(\"This is my except block\",e)\n",
        "else:\n",
        "    f.close()\n",
        "    print(\"This will be excuted once your try will excute without error\")"
      ],
      "metadata": {
        "colab": {
          "base_uri": "https://localhost:8080/"
        },
        "id": "d-zc3tT0fHe0",
        "outputId": "cab8d1a9-90a6-420d-cfee-26c80d5c8a28"
      },
      "execution_count": 6,
      "outputs": [
        {
          "output_type": "stream",
          "name": "stdout",
          "text": [
            "This will be excuted once your try will excute without error\n"
          ]
        }
      ]
    },
    {
      "cell_type": "markdown",
      "source": [
        "**Finally:**\n",
        "\n",
        " * The finally clause is executed regardless of whether the try clause raises an exception. The finally clause is often used to close files or resources that were opened in the try clause.\n",
        "\n",
        " * For example, the following code will try to open a file and then close it. Even if the try clause raises an exception, the finally clause will still be executed and the file will be closed."
      ],
      "metadata": {
        "id": "RnbtJXoIk7N5"
      }
    },
    {
      "cell_type": "code",
      "source": [
        "try :\n",
        "    f = open(\"test12.txt\", 'w')\n",
        "    f.write(\"Write something\")\n",
        "    f.close()\n",
        "finally:\n",
        "    print(\"finally will execute itself in any situation\")"
      ],
      "metadata": {
        "colab": {
          "base_uri": "https://localhost:8080/"
        },
        "id": "v3sivugTlcZx",
        "outputId": "726d86ea-d835-4cd2-ecdc-3dfed8949635"
      },
      "execution_count": 7,
      "outputs": [
        {
          "output_type": "stream",
          "name": "stdout",
          "text": [
            "finally will execute itself in any situation\n"
          ]
        }
      ]
    },
    {
      "cell_type": "markdown",
      "source": [
        "**Raise:**\n",
        "\n",
        " * The raise keyword is used to raise an exception. The raise keyword can be used to raise a specific exception or a generic exception.\n",
        "\n",
        " * For example, the following code will raise a ValueError exception if the user enters a non-integer value for the variable x:"
      ],
      "metadata": {
        "id": "e1x2PWMSlpIZ"
      }
    },
    {
      "cell_type": "code",
      "source": [
        "def factorial(x):\n",
        "    if not isinstance(x, int):\n",
        "        raise ValueError(\"x must be an integer\")\n",
        "    result = 1\n",
        "    for i in range(1, x + 1):\n",
        "        result *= i\n",
        "    return result\n",
        "\n",
        "try:\n",
        "    print(factorial(\"hello\"))\n",
        "except ValueError as e:\n",
        "    print(e)"
      ],
      "metadata": {
        "colab": {
          "base_uri": "https://localhost:8080/"
        },
        "id": "c2y9s6wyls2z",
        "outputId": "77d496e5-1e24-4610-9524-1184bfdfab64"
      },
      "execution_count": 4,
      "outputs": [
        {
          "output_type": "stream",
          "name": "stdout",
          "text": [
            "x must be an integer\n"
          ]
        }
      ]
    },
    {
      "cell_type": "markdown",
      "source": [
        "\n",
        "# **Q5**\n",
        "\n",
        "**What are the Custom Exceptions in python?why do we need custom exceptions? Explain with an example?**\n",
        "\n",
        "**Answer:**\n",
        "\n",
        "Custom exceptions in Python are user-defined exceptions that allow programmers to create their own exceptional conditions specific to their applications. By creating custom exceptions, developers can provide more meaningful error messages and tailor the exception handling to their program's requirements.\n",
        "\n",
        "Here's the reasons thats why we might need custom exceptions:\n",
        "\n",
        " * Specificity: Custom exceptions allow you to define exceptional situations that are unique to your application or domain. By creating specialized exception classes, you can provide more descriptive and specific error messages, making it easier to identify and debug issues.\n",
        "\n",
        " * Clarity: Custom exceptions enhance the readability and maintainability of your code. When you raise and handle custom exceptions, it becomes clear which exceptional scenarios are being handled, improving code comprehension for both the original developer and others who work with the codebase.\n",
        "\n",
        " * Modularity: Custom exceptions help in organizing and structuring your code. By encapsulating exceptional situations in dedicated exception classes, you can isolate the error-handling logic and separate it from the rest of your code, promoting modular and reusable design."
      ],
      "metadata": {
        "id": "_xz9rQ_GcXC5"
      }
    },
    {
      "cell_type": "code",
      "source": [
        "class InsufficientBalanceError(Exception):\n",
        "    def __init__(self, balance, amount):\n",
        "        self.balance = balance\n",
        "        self.amount = amount\n",
        "\n",
        "    def __str__(self):\n",
        "        return f\"Insufficient balance: Available balance is {self.balance}, but {self.amount} required.\"\n",
        "\n",
        "\n",
        "def withdraw(balance, amount):\n",
        "    if amount > balance:\n",
        "        raise InsufficientBalanceError(balance, amount)\n",
        "    else:\n",
        "        print(\"Withdrawal successful\")\n",
        "\n",
        "\n",
        "try:\n",
        "    withdraw(100, 200)\n",
        "except InsufficientBalanceError as e:\n",
        "    print(e)\n"
      ],
      "metadata": {
        "colab": {
          "base_uri": "https://localhost:8080/"
        },
        "id": "xKFJl5bbs6eE",
        "outputId": "8a51b512-30f6-44c4-e770-dca180902d02"
      },
      "execution_count": 10,
      "outputs": [
        {
          "output_type": "stream",
          "name": "stdout",
          "text": [
            "Insufficient balance: Available balance is 100, but 200 required.\n"
          ]
        }
      ]
    },
    {
      "cell_type": "markdown",
      "source": [
        "In the above example, we define a custom exception class called InsufficientBalanceError that inherits from the base Exception class. The InsufficientBalanceError class takes the current balance and the withdrawal amount as arguments. We override the __str__ method to provide a customized error message when the exception is raised.\n",
        "\n",
        "The withdraw function simulates a withdrawal from an account. If the withdrawal amount exceeds the available balance, an InsufficientBalanceError is raised. Otherwise, the withdrawal is considered successful.\n",
        "\n",
        "In the try-except block, we attempt to call the withdraw function. If an InsufficientBalanceError exception is raised, it is caught by the except block, and the error message is printed."
      ],
      "metadata": {
        "id": "ethFPUZltEyQ"
      }
    },
    {
      "cell_type": "markdown",
      "source": [
        "# **Q6**\n",
        "\n",
        "**Create a custom exception class. Use this class to handle an exception.**\n",
        "\n",
        "**Answer:**"
      ],
      "metadata": {
        "id": "ZRnV_5DocarR"
      }
    },
    {
      "cell_type": "code",
      "source": [
        "class OutOfStockError(Exception):\n",
        "    def __init__(self, item):\n",
        "        self.item = item\n",
        "\n",
        "    def __str__(self):\n",
        "        return f\"Sorry, '{self.item}' is out of stock.\"\n",
        "\n",
        "\n",
        "def check_stock(item):\n",
        "    available_items = [\"apple\", \"banana\", \"orange\"]\n",
        "\n",
        "    if item not in available_items:\n",
        "        raise OutOfStockError(item)\n",
        "    else:\n",
        "        print(f\"'{item}' is available.\")\n",
        "\n",
        "\n",
        "try:\n",
        "    item_name = \"mango\"\n",
        "    check_stock(item_name)\n",
        "except OutOfStockError as e:\n",
        "    print(e)\n"
      ],
      "metadata": {
        "id": "3e8CahkicbQ1",
        "colab": {
          "base_uri": "https://localhost:8080/"
        },
        "outputId": "09211dfd-a5c6-4690-86c2-1a32d01417ee"
      },
      "execution_count": 12,
      "outputs": [
        {
          "output_type": "stream",
          "name": "stdout",
          "text": [
            "Sorry, 'mango' is out of stock.\n"
          ]
        }
      ]
    }
  ]
}